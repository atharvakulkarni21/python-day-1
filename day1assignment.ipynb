{
 "cells": [
  {
   "cell_type": "markdown",
   "metadata": {},
   "source": [
    "## Assignment 1 "
   ]
  },
  {
   "cell_type": "markdown",
   "metadata": {},
   "source": [
    "Q.1 What is Python? What are the ways to Install it?\n",
    "Ans. Python is an interpreted, high-level, general-purpose programming language. Created by Guido van Rossum in 1991.\n",
    "Python can be obtained from the Python Software Foundation website at python.org. Typically, that involves downloading the appropriate installer for your operating system and running it on your machine.\n",
    "\n",
    "\n",
    "Q.2 What are code Envirnoment? Types?\n",
    "Ans. A code environment is a standalone and self-contained environment to run Python  code. In each location where you can run Python  code, you can select which code environment to use.\n",
    "Types: \n",
    "Pycharm - Ide\n",
    "vs code \n",
    "sublime\n",
    "spyder \n",
    "atom \n",
    "notepad++\n",
    "jupyter \n",
    "google collab - online "
   ]
  },
  {
   "cell_type": "code",
   "execution_count": null,
   "metadata": {},
   "outputs": [],
   "source": []
  }
 ],
 "metadata": {
  "kernelspec": {
   "display_name": "Python 3",
   "language": "python",
   "name": "python3"
  },
  "language_info": {
   "codemirror_mode": {
    "name": "ipython",
    "version": 3
   },
   "file_extension": ".py",
   "mimetype": "text/x-python",
   "name": "python",
   "nbconvert_exporter": "python",
   "pygments_lexer": "ipython3",
   "version": "3.7.4"
  }
 },
 "nbformat": 4,
 "nbformat_minor": 4
}
